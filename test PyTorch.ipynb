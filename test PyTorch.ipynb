{
 "cells": [
  {
   "cell_type": "markdown",
   "id": "b88d0411",
   "metadata": {},
   "source": [
    "# Federated Learning"
   ]
  },
  {
   "cell_type": "code",
   "execution_count": 2,
   "id": "fd36ef3b",
   "metadata": {},
   "outputs": [],
   "source": [
    "import numpy as np\n",
    "import torch as th\n",
    "from torch.autograd import Variable"
   ]
  },
  {
   "cell_type": "code",
   "execution_count": 3,
   "id": "9feba529",
   "metadata": {},
   "outputs": [],
   "source": [
    "# two servers\n",
    "data_size = 10\n",
    "np.random.seed(0)\n",
    "X_1 = [(np.random.rand(data_size)*10)] # one variable with 100 samples\n",
    "X_2 = [(np.random.rand(data_size+20)*5)] # one variable with 120 samples\n",
    "X_servers = [X_1, X_2]\n",
    "sample_size_max = data_size+20"
   ]
  },
  {
   "cell_type": "code",
   "execution_count": 4,
   "outputs": [],
   "source": [
    "def sampleCov(x, y):\n",
    "    \"\"\"compute sample covariance\"\"\"\n",
    "    return 1. / (x.size - 1) * np.dot(x,y) - x.size / (x.size - 1) * np.mean(x) * np.mean(y)"
   ],
   "metadata": {
    "collapsed": false
   }
  },
  {
   "cell_type": "code",
   "execution_count": 5,
   "id": "c14a6ab2",
   "metadata": {},
   "outputs": [],
   "source": [
    "# build linear model with PyTorch\n",
    "class LinearRegressionModel(th.nn.Module):\n",
    " \n",
    "    def __init__(self):\n",
    "        super(LinearRegressionModel, self).__init__()\n",
    "        self.linear = th.nn.Linear(1, 1)  # One in and one out\n",
    " \n",
    "    def forward(self, x):\n",
    "        y_pred = self.linear(x)\n",
    "        return y_pred"
   ]
  },
  {
   "cell_type": "code",
   "execution_count": 6,
   "id": "ef4335c5",
   "metadata": {},
   "outputs": [],
   "source": [
    "def sampleCovTorch(x, y, gradient_decent_steps=10):\n",
    "    \"\"\"compute sample covariance with PyTorch\"\"\"\n",
    "    model = LinearRegressionModel()\n",
    "    criterion = th.nn.MSELoss()\n",
    "    optimizer = th.optim.SGD(model.parameters(), lr = 0.01)\n",
    "    \n",
    "    n_j = x.size\n",
    "    x_tensor = Variable(th.from_numpy(x.reshape((n_j, 1)).astype(np.float32)))\n",
    "    y_tensor = Variable(th.from_numpy(y.reshape((n_j, 1)).astype(np.float32)))\n",
    "    for epoch in range(gradient_decent_steps):\n",
    "\n",
    "        # Forward pass: Compute predicted y by passing\n",
    "        # x to the model\n",
    "        pred_y = model(x_tensor)\n",
    "\n",
    "        # Compute and print loss\n",
    "        loss = criterion(pred_y, y_tensor)\n",
    "\n",
    "        # Zero gradients, perform a backward pass,\n",
    "        # and update the weights.\n",
    "        optimizer.zero_grad()\n",
    "        loss.backward()\n",
    "        optimizer.step()\n",
    "\n",
    "        #print('epoch {}, loss {}'.format(epoch, loss.item()))\n",
    "    return model.linear.weight.detach().numpy()[0][0]"
   ]
  },
  {
   "cell_type": "code",
   "execution_count": 7,
   "id": "04340128",
   "metadata": {},
   "outputs": [],
   "source": [
    "def rmse(x_estimate, x_true, R):\n",
    "    \"\"\"\n",
    "    Args:\n",
    "        x_estimate: np.array; estimated variable\n",
    "        x_true: np.array; true variable\n",
    "        R: int; number of already performed iterations\n",
    "\n",
    "    Returns: float; residual mean squared error\n",
    "\n",
    "    \"\"\"\n",
    "    error_sum = 1./R * np.sum(x_estimate - x_true)\n",
    "    nominator = np.linalg.norm(error_sum)**2\n",
    "    denominator = np.linalg.norm(x_true) ** 2\n",
    "    rmse = nominator / denominator\n",
    "    return rmse"
   ]
  },
  {
   "cell_type": "code",
   "execution_count": 8,
   "id": "87fc79cb",
   "metadata": {},
   "outputs": [],
   "source": [
    "def covariance_based_attack_algorithm(X_servers, k, R=1, noise_levels=None, gradient_decent_steps=1):\n",
    "    \"\"\"\n",
    "    Args:\n",
    "        X_servers: list; list of servers, each server is a list of variables\n",
    "        k: int; which variable to steal\n",
    "        R: int; number of iterations\n",
    "        noise_levels: np.array (optional); noise levels for each server (gamma, epsilon)\n",
    "        gradient_decent_steps: int; number of gradient decent steps for PyTorch model\n",
    "\n",
    "    Returns: np.array; errors for each server after every iteration\n",
    "\n",
    "    \"\"\"\n",
    "    if R == 0:\n",
    "        return np.array([np.Inf])\n",
    "    n_servers = len(X_servers)\n",
    "    \n",
    "    # get maximal length to create numpy array\n",
    "    n_j_max = 0\n",
    "    for X_j in X_servers:\n",
    "        if X_j[k].size > n_j_max:\n",
    "            n_j_max = X_j[k].size\n",
    "    \n",
    "    X_stolen = np.zeros((R, n_servers, n_j_max))\n",
    "    \n",
    "    if noise_levels is not None:\n",
    "        noise_gamma = noise_levels[:, 0]\n",
    "        noise_epsilon = noise_levels[:, 1]\n",
    "    \n",
    "    error = np.zeros((n_servers, R))\n",
    "\n",
    "    # on client side\n",
    "    # mean, and covariance performed on server, just return solutions\n",
    "    for r in range(R):\n",
    "        for j, X_j in enumerate(X_servers):\n",
    "\n",
    "            n_j = X_j[k].size # number of samples for this variable\n",
    "\n",
    "            # create linearly independent vectors\n",
    "            Y = np.eye(n_j)\n",
    "\n",
    "            # initialise V, m \n",
    "            V = np.zeros(n_j)\n",
    "            m = np.zeros(n_j)\n",
    "\n",
    "            # compute sample means and covariances\n",
    "            for i in range(n_j):\n",
    "                m[i] = np.mean(Y[i, :]) # on client\n",
    "                y_var = np.var(Y[i, :]) # on client\n",
    "                V[i] = sampleCovTorch(X_j[k], Y[i, :], gradient_decent_steps) * y_var # function on server\n",
    "                #V[i] = sampleCov(X_j[k], Y[i, :]) # function on server\n",
    "\n",
    "            X_jk_mean = np.mean(X_j[k]) # function on server\n",
    "\n",
    "            # add noise to data\n",
    "            if noise_levels is not None:\n",
    "                X_jk_mean += np.random.normal(0, scale=np.sqrt(noise_gamma[j])) # one dimensional random variable\n",
    "            if noise_levels is not None:\n",
    "                V += np.random.multivariate_normal(np.zeros(V.size), cov=np.eye(V.size)*np.sqrt(noise_epsilon[j])) # random vector\n",
    "\n",
    "            # client side\n",
    "            # compute inverse of Y\n",
    "            Y_inv = np.linalg.inv(Y.T)\n",
    "            # recover data on client side\n",
    "            X_stolen[r, j, :n_j] = (n_j - 1) * np.matmul(Y_inv, V) + n_j * X_jk_mean * np.matmul(Y_inv, m)\n",
    "\n",
    "            # average out the noise (if any)\n",
    "            X_stolen_current = np.sum(X_stolen, axis=0) / (r+1)\n",
    "\n",
    "            # compute error\n",
    "            error[j, r] = rmse(X_stolen_current[j, :n_j], X_j[k], r + 1)\n",
    "    return error\n",
    "            "
   ]
  },
  {
   "cell_type": "code",
   "execution_count": 9,
   "id": "fbd16f65",
   "metadata": {},
   "outputs": [
    {
     "name": "stdout",
     "output_type": "stream",
     "text": [
      "success on server 1\n",
      "error below tolerance: 0.0\n",
      "success on server 2\n",
      "error below tolerance: 0.00016\n"
     ]
    }
   ],
   "source": [
    "k=0\n",
    "error = covariance_based_attack_algorithm(X_servers, k=k, R=100, noise_levels=np.array([[0.3, 0.3],[0.3, 0.3]]),\n",
    "                                          gradient_decent_steps=1)\n",
    "\n",
    "tol=1e-3\n",
    "for j, X_j in enumerate(X_servers):\n",
    "    if error[j, -1] == 0:\n",
    "        print('exact success on server', j+1)\n",
    "    elif error[j, -1] < tol:\n",
    "        print('success on server', j+1)\n",
    "        print('error below tolerance:', error[j, -1].round(5))\n",
    "    else:\n",
    "        print('failed on server', j+1)\n",
    "        print('error:', error[j, -1].round(5))"
   ]
  },
  {
   "cell_type": "code",
   "execution_count": null,
   "id": "171955c9",
   "metadata": {},
   "outputs": [],
   "source": []
  },
  {
   "cell_type": "code",
   "execution_count": null,
   "id": "0d5ccfc8",
   "metadata": {},
   "outputs": [],
   "source": []
  }
 ],
 "metadata": {
  "kernelspec": {
   "display_name": "Python 3 (ipykernel)",
   "language": "python",
   "name": "python3"
  },
  "language_info": {
   "codemirror_mode": {
    "name": "ipython",
    "version": 3
   },
   "file_extension": ".py",
   "mimetype": "text/x-python",
   "name": "python",
   "nbconvert_exporter": "python",
   "pygments_lexer": "ipython3",
   "version": "3.9.15"
  }
 },
 "nbformat": 4,
 "nbformat_minor": 5
}

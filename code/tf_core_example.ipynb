{
 "cells": [
  {
   "cell_type": "code",
   "execution_count": 1,
   "id": "2229d7e9",
   "metadata": {},
   "outputs": [
    {
     "name": "stderr",
     "output_type": "stream",
     "text": [
      "2022-09-24 13:01:59.585146: I tensorflow/core/platform/cpu_feature_guard.cc:193] This TensorFlow binary is optimized with oneAPI Deep Neural Network Library (oneDNN) to use the following CPU instructions in performance-critical operations:  AVX2 AVX512F AVX512_VNNI FMA\n",
      "To enable them in other operations, rebuild TensorFlow with the appropriate compiler flags.\n",
      "2022-09-24 13:01:59.685529: I tensorflow/core/util/util.cc:169] oneDNN custom operations are on. You may see slightly different numerical results due to floating-point round-off errors from different computation orders. To turn them off, set the environment variable `TF_ENABLE_ONEDNN_OPTS=0`.\n",
      "2022-09-24 13:01:59.689059: W tensorflow/stream_executor/platform/default/dso_loader.cc:64] Could not load dynamic library 'libcudart.so.11.0'; dlerror: libcudart.so.11.0: cannot open shared object file: No such file or directory\n",
      "2022-09-24 13:01:59.689074: I tensorflow/stream_executor/cuda/cudart_stub.cc:29] Ignore above cudart dlerror if you do not have a GPU set up on your machine.\n",
      "2022-09-24 13:01:59.708761: E tensorflow/stream_executor/cuda/cuda_blas.cc:2981] Unable to register cuBLAS factory: Attempting to register factory for plugin cuBLAS when one has already been registered\n",
      "2022-09-24 13:02:00.125492: W tensorflow/stream_executor/platform/default/dso_loader.cc:64] Could not load dynamic library 'libnvinfer.so.7'; dlerror: libnvinfer.so.7: cannot open shared object file: No such file or directory\n",
      "2022-09-24 13:02:00.125542: W tensorflow/stream_executor/platform/default/dso_loader.cc:64] Could not load dynamic library 'libnvinfer_plugin.so.7'; dlerror: libnvinfer_plugin.so.7: cannot open shared object file: No such file or directory\n",
      "2022-09-24 13:02:00.125545: W tensorflow/compiler/tf2tensorrt/utils/py_utils.cc:38] TF-TRT Warning: Cannot dlopen some TensorRT libraries. If you would like to use Nvidia GPU with TensorRT, please make sure the missing libraries mentioned above are installed properly.\n"
     ]
    }
   ],
   "source": [
    "import pandas as pd\n",
    "import numpy as np\n",
    "\n",
    "import tensorflow as tf\n",
    "import tensorflow_probability as tfp\n",
    "import tensorflow_federated as tff"
   ]
  },
  {
   "cell_type": "code",
   "execution_count": 2,
   "id": "99d8e3dc",
   "metadata": {},
   "outputs": [],
   "source": [
    "import nest_asyncio\n",
    "nest_asyncio.apply()"
   ]
  },
  {
   "cell_type": "code",
   "execution_count": 3,
   "id": "6870b350",
   "metadata": {},
   "outputs": [],
   "source": [
    "%load_ext tensorboard"
   ]
  },
  {
   "cell_type": "markdown",
   "id": "adb7cd8f",
   "metadata": {},
   "source": [
    "## Federate Core Test"
   ]
  },
  {
   "cell_type": "code",
   "execution_count": 4,
   "id": "d4a5e294",
   "metadata": {},
   "outputs": [],
   "source": [
    "seed = 2022\n",
    "\n",
    "n_samples = 150 # number of samples\n",
    "k = 1 # number of x variables/cols\n",
    "j = 3 # number of servers\n",
    "\n",
    "# x = [np.random.uniform(size = (n_samples, k)).tolist() for _ in range(j)]\n",
    "x = [np.random.uniform(size = n_samples).tolist() for _ in range(j)]\n",
    "y = np.random.uniform(size = (n_samples, n_samples))\n",
    "\n",
    "j_index = 0\n",
    "x_j = x[j_index]"
   ]
  },
  {
   "cell_type": "markdown",
   "id": "633da664",
   "metadata": {},
   "source": [
    "## Compare tf.Dataset and TFF"
   ]
  },
  {
   "cell_type": "markdown",
   "id": "ec82e396",
   "metadata": {},
   "source": [
    "### 1. Convert to format and get average"
   ]
  },
  {
   "cell_type": "markdown",
   "id": "2e2accff",
   "metadata": {},
   "source": [
    "#### Dataset"
   ]
  },
  {
   "cell_type": "code",
   "execution_count": 5,
   "id": "1e67c563",
   "metadata": {
    "scrolled": true
   },
   "outputs": [],
   "source": [
    "def dataset_get_local_average(local_vals):\n",
    "    sum_and_count = (local_vals.reduce((0.0, 0), lambda x, y: (x[0] + y, x[1] + 1)))\n",
    "    return sum_and_count[0] / tf.cast(sum_and_count[1], tf.float32)"
   ]
  },
  {
   "cell_type": "code",
   "execution_count": 6,
   "id": "c74e1f5b",
   "metadata": {
    "scrolled": false
   },
   "outputs": [
    {
     "name": "stderr",
     "output_type": "stream",
     "text": [
      "2022-09-24 13:02:01.335459: W tensorflow/stream_executor/platform/default/dso_loader.cc:64] Could not load dynamic library 'libcuda.so.1'; dlerror: libcuda.so.1: cannot open shared object file: No such file or directory\n",
      "2022-09-24 13:02:01.335476: W tensorflow/stream_executor/cuda/cuda_driver.cc:263] failed call to cuInit: UNKNOWN ERROR (303)\n",
      "2022-09-24 13:02:01.335487: I tensorflow/stream_executor/cuda/cuda_diagnostics.cc:156] kernel driver does not appear to be running on this host (rgus-Latitude-7520): /proc/driver/nvidia/version does not exist\n",
      "2022-09-24 13:02:01.335697: I tensorflow/core/platform/cpu_feature_guard.cc:193] This TensorFlow binary is optimized with oneAPI Deep Neural Network Library (oneDNN) to use the following CPU instructions in performance-critical operations:  AVX2 AVX512F AVX512_VNNI FMA\n",
      "To enable them in other operations, rebuild TensorFlow with the appropriate compiler flags.\n"
     ]
    },
    {
     "data": {
      "text/plain": [
       "0.439388"
      ]
     },
     "execution_count": 6,
     "metadata": {},
     "output_type": "execute_result"
    }
   ],
   "source": [
    "dataset = tf.data.Dataset.from_tensor_slices(x_j) # convert to tf dataset\n",
    "x_avg = dataset_get_local_average(dataset).numpy()\n",
    "x_avg"
   ]
  },
  {
   "cell_type": "markdown",
   "id": "8bec3ffa",
   "metadata": {},
   "source": [
    "#### TFF"
   ]
  },
  {
   "cell_type": "code",
   "execution_count": 7,
   "id": "6da401f7",
   "metadata": {},
   "outputs": [],
   "source": [
    "# get averages!\n",
    "@tff.tf_computation(tff.SequenceType(tf.float32))\n",
    "def get_local_average(local_vals):\n",
    "    sum_and_count = (local_vals.reduce((0.0, 0), lambda x, y: (x[0] + y, x[1] + 1)))\n",
    "    return sum_and_count[0] / tf.cast(sum_and_count[1], tf.float32)\n",
    "\n",
    "@tff.federated_computation(tff.type_at_clients(tff.SequenceType(tf.float32)))\n",
    "def avg_map(vals):\n",
    "    return tff.federated_map(get_local_average, vals)"
   ]
  },
  {
   "cell_type": "code",
   "execution_count": 8,
   "id": "08c49f20",
   "metadata": {},
   "outputs": [
    {
     "data": {
      "text/plain": [
       "0.439388"
      ]
     },
     "execution_count": 8,
     "metadata": {},
     "output_type": "execute_result"
    }
   ],
   "source": [
    "fed_x_avg = avg_map([x_j])[0]\n",
    "fed_x_avg"
   ]
  },
  {
   "cell_type": "markdown",
   "id": "2a22cec3",
   "metadata": {},
   "source": [
    "### 2. Get covariance"
   ]
  },
  {
   "cell_type": "markdown",
   "id": "598f3c3e",
   "metadata": {},
   "source": [
    "#### Dataset"
   ]
  },
  {
   "cell_type": "code",
   "execution_count": 9,
   "id": "2709062e",
   "metadata": {},
   "outputs": [],
   "source": [
    "def get_element(dataset):\n",
    "    for element in dataset:\n",
    "        print(element)"
   ]
  },
  {
   "cell_type": "code",
   "execution_count": 10,
   "id": "0f228389",
   "metadata": {
    "scrolled": true
   },
   "outputs": [
    {
     "name": "stdout",
     "output_type": "stream",
     "text": [
      "tf.Tensor(\n",
      "[[0.5745409  0.5745409  0.5745409  ... 0.5745409  0.5745409  0.5745409 ]\n",
      " [0.66319996 0.66319996 0.66319996 ... 0.66319996 0.66319996 0.66319996]\n",
      " [0.5159908  0.5159908  0.5159908  ... 0.5159908  0.5159908  0.5159908 ]\n",
      " ...\n",
      " [0.4446365  0.4446365  0.4446365  ... 0.4446365  0.4446365  0.4446365 ]\n",
      " [0.77188975 0.77188975 0.77188975 ... 0.77188975 0.77188975 0.77188975]\n",
      " [0.17519735 0.17519735 0.17519735 ... 0.17519735 0.17519735 0.17519735]], shape=(150, 150), dtype=float32)\n"
     ]
    }
   ],
   "source": [
    "# convert x to a matrix\n",
    "dataset_repeated = dataset.map(lambda x: tf.repeat(x, n_samples, axis = 0))\n",
    "dataset_repeated = dataset_repeated.batch(n_samples, drop_remainder=False)\n",
    "\n",
    "get_element(dataset_repeated)"
   ]
  },
  {
   "cell_type": "code",
   "execution_count": 11,
   "id": "946ed6b1",
   "metadata": {
    "scrolled": true
   },
   "outputs": [
    {
     "data": {
      "text/plain": [
       "array([ 2.87773856e-03,  4.05198755e-03, -7.10635027e-03, -1.00596622e-03,\n",
       "        3.51213268e-03, -8.66604038e-03,  8.57600570e-03,  6.65412867e-04,\n",
       "       -4.20591095e-03, -6.74881926e-03,  6.12326548e-04,  1.43226795e-02,\n",
       "       -1.32999234e-02,  1.68486610e-02,  1.02900749e-03,  4.77856351e-03,\n",
       "       -6.03951630e-04,  7.83179700e-03, -7.03747105e-03, -5.22249797e-03,\n",
       "        4.91724117e-03, -2.94933716e-06, -2.57727923e-03,  3.72699648e-03,\n",
       "       -6.13499607e-04,  4.13555565e-04,  8.56180268e-04, -6.12876285e-03,\n",
       "       -3.92249133e-03, -8.56847037e-03,  4.37103631e-03, -7.72171188e-03,\n",
       "       -7.54889892e-03,  7.12684821e-04,  1.48570742e-02, -4.48371749e-03,\n",
       "       -9.06115957e-03, -3.59643344e-03,  2.18514819e-03,  1.33445151e-02,\n",
       "        1.08226184e-02,  5.09223901e-03, -6.91226823e-03, -5.47358580e-03,\n",
       "        4.01620427e-03, -1.13173760e-03,  4.80033970e-03, -3.47859133e-03,\n",
       "       -9.78258671e-04,  6.99048769e-03, -6.02292875e-03,  5.65557228e-03,\n",
       "        9.78637673e-03, -5.10858418e-03, -4.84048994e-03,  8.14536819e-04,\n",
       "       -9.70239053e-04, -7.06461119e-03,  9.71977599e-03,  4.92737908e-03,\n",
       "       -7.09988596e-03,  1.61521276e-03,  3.86897614e-03,  1.25672086e-03,\n",
       "        1.74782984e-02,  1.53909787e-03, -4.92179766e-03,  9.97543521e-03,\n",
       "        1.23777473e-02,  5.36375213e-04, -2.54208862e-04,  5.30838093e-04,\n",
       "       -3.23307351e-04, -5.19062439e-03,  1.68732961e-03,  1.29221461e-03,\n",
       "        6.54791831e-04, -4.42103110e-03, -6.13523414e-03, -5.63346408e-03,\n",
       "        2.65796459e-03,  2.44407146e-03, -3.00154742e-03, -2.39205168e-04,\n",
       "        1.75341644e-04, -3.83914402e-03,  7.93736149e-03,  5.67118032e-03,\n",
       "        3.64855491e-03, -5.48706623e-03, -1.12862680e-02,  5.70240058e-03,\n",
       "        1.87088968e-03, -4.15345607e-03, -9.90723725e-03,  5.28352195e-03,\n",
       "        5.44180511e-04,  2.97140237e-03, -4.58908221e-03, -1.55034047e-02,\n",
       "        4.87157330e-03,  2.86668452e-04,  1.98823563e-03, -2.32289406e-03,\n",
       "       -1.06482282e-02,  3.56061268e-03, -5.82194049e-03,  4.89013642e-03,\n",
       "        9.23354179e-03, -9.91274836e-04, -1.86131656e-04,  2.45263823e-03,\n",
       "        2.44126961e-04,  1.27750877e-02,  3.03969765e-03,  1.36571135e-02,\n",
       "        4.08644276e-03,  6.74277311e-03, -5.00518363e-03, -3.96912638e-03,\n",
       "        1.37307690e-02,  1.95945380e-03,  1.06408345e-02,  2.89248908e-03,\n",
       "       -4.76524746e-03,  1.11164560e-03,  1.22760925e-02, -7.94048514e-03,\n",
       "       -2.43870472e-03,  7.54239678e-04,  7.00384239e-03,  1.37239313e-02,\n",
       "       -1.16966497e-02,  9.07268003e-03,  2.52676406e-03,  1.00135792e-03,\n",
       "       -2.82094534e-03,  1.37138003e-02, -3.26724141e-03,  2.51457561e-03,\n",
       "       -1.10393250e-03, -8.15050118e-03,  1.58203649e-03, -4.27856017e-03,\n",
       "       -4.40923031e-04,  9.62469354e-03, -1.72868150e-03, -1.82461238e-03,\n",
       "       -9.03189182e-03, -4.38688369e-03], dtype=float32)"
      ]
     },
     "execution_count": 11,
     "metadata": {},
     "output_type": "execute_result"
    }
   ],
   "source": [
    "# get covariance col vector\n",
    "cov_vec = dataset_repeated.map(lambda x: tfp.stats.covariance(x, y, sample_axis=0, event_axis=None))\n",
    "cov_vec_np = next(cov_vec.as_numpy_iterator())\n",
    "cov_vec_np"
   ]
  },
  {
   "cell_type": "markdown",
   "id": "4d8b01fb",
   "metadata": {},
   "source": [
    "#### TFF"
   ]
  },
  {
   "cell_type": "code",
   "execution_count": 12,
   "id": "501ea372",
   "metadata": {},
   "outputs": [
    {
     "data": {
      "text/plain": [
       "'(float32* -> float32[150]*)'"
      ]
     },
     "execution_count": 12,
     "metadata": {},
     "output_type": "execute_result"
    }
   ],
   "source": [
    "def get_y():\n",
    "    return y\n",
    "\n",
    "# merge to tensor\n",
    "@tff.tf_computation(tff.SequenceType(tf.float32))\n",
    "def local_covariance(vec):\n",
    "    out = vec.map(lambda x: tf.repeat(x, n_samples, axis = 0))\n",
    "    out = out.batch(n_samples, drop_remainder=False)\n",
    "    out = out.map(lambda x: tfp.stats.covariance(x, get_y(), sample_axis=0, event_axis=None)) # this function computes the covariance\n",
    "    return out\n",
    "str(local_covariance.type_signature)"
   ]
  },
  {
   "cell_type": "code",
   "execution_count": 13,
   "id": "f29f2cca",
   "metadata": {},
   "outputs": [],
   "source": [
    "# merge to tensor\n",
    "@tff.federated_computation(tff.type_at_clients(tff.SequenceType(tf.float32)))\n",
    "def covariance_map(vecs):\n",
    "    return tff.federated_map(local_covariance, vecs)"
   ]
  },
  {
   "cell_type": "code",
   "execution_count": 14,
   "id": "68af1e5d",
   "metadata": {
    "scrolled": true
   },
   "outputs": [
    {
     "data": {
      "text/plain": [
       "array([ 2.87773856e-03,  4.05198755e-03, -7.10635027e-03, -1.00596622e-03,\n",
       "        3.51213268e-03, -8.66604038e-03,  8.57600570e-03,  6.65412867e-04,\n",
       "       -4.20591095e-03, -6.74881926e-03,  6.12326548e-04,  1.43226795e-02,\n",
       "       -1.32999234e-02,  1.68486610e-02,  1.02900749e-03,  4.77856351e-03,\n",
       "       -6.03951630e-04,  7.83179700e-03, -7.03747105e-03, -5.22249797e-03,\n",
       "        4.91724117e-03, -2.94933716e-06, -2.57727923e-03,  3.72699648e-03,\n",
       "       -6.13499607e-04,  4.13555565e-04,  8.56180268e-04, -6.12876285e-03,\n",
       "       -3.92249133e-03, -8.56847037e-03,  4.37103631e-03, -7.72171188e-03,\n",
       "       -7.54889892e-03,  7.12684821e-04,  1.48570742e-02, -4.48371749e-03,\n",
       "       -9.06115957e-03, -3.59643344e-03,  2.18514819e-03,  1.33445151e-02,\n",
       "        1.08226184e-02,  5.09223901e-03, -6.91226823e-03, -5.47358580e-03,\n",
       "        4.01620427e-03, -1.13173760e-03,  4.80033970e-03, -3.47859133e-03,\n",
       "       -9.78258671e-04,  6.99048769e-03, -6.02292875e-03,  5.65557228e-03,\n",
       "        9.78637673e-03, -5.10858418e-03, -4.84048994e-03,  8.14536819e-04,\n",
       "       -9.70239053e-04, -7.06461119e-03,  9.71977599e-03,  4.92737908e-03,\n",
       "       -7.09988596e-03,  1.61521276e-03,  3.86897614e-03,  1.25672086e-03,\n",
       "        1.74782984e-02,  1.53909787e-03, -4.92179766e-03,  9.97543521e-03,\n",
       "        1.23777473e-02,  5.36375213e-04, -2.54208862e-04,  5.30838093e-04,\n",
       "       -3.23307351e-04, -5.19062439e-03,  1.68732961e-03,  1.29221461e-03,\n",
       "        6.54791831e-04, -4.42103110e-03, -6.13523414e-03, -5.63346408e-03,\n",
       "        2.65796459e-03,  2.44407146e-03, -3.00154742e-03, -2.39205168e-04,\n",
       "        1.75341644e-04, -3.83914402e-03,  7.93736149e-03,  5.67118032e-03,\n",
       "        3.64855491e-03, -5.48706623e-03, -1.12862680e-02,  5.70240058e-03,\n",
       "        1.87088968e-03, -4.15345607e-03, -9.90723725e-03,  5.28352195e-03,\n",
       "        5.44180511e-04,  2.97140237e-03, -4.58908221e-03, -1.55034047e-02,\n",
       "        4.87157330e-03,  2.86668452e-04,  1.98823563e-03, -2.32289406e-03,\n",
       "       -1.06482282e-02,  3.56061268e-03, -5.82194049e-03,  4.89013642e-03,\n",
       "        9.23354179e-03, -9.91274836e-04, -1.86131656e-04,  2.45263823e-03,\n",
       "        2.44126961e-04,  1.27750877e-02,  3.03969765e-03,  1.36571135e-02,\n",
       "        4.08644276e-03,  6.74277311e-03, -5.00518363e-03, -3.96912638e-03,\n",
       "        1.37307690e-02,  1.95945380e-03,  1.06408345e-02,  2.89248908e-03,\n",
       "       -4.76524746e-03,  1.11164560e-03,  1.22760925e-02, -7.94048514e-03,\n",
       "       -2.43870472e-03,  7.54239678e-04,  7.00384239e-03,  1.37239313e-02,\n",
       "       -1.16966497e-02,  9.07268003e-03,  2.52676406e-03,  1.00135792e-03,\n",
       "       -2.82094534e-03,  1.37138003e-02, -3.26724141e-03,  2.51457561e-03,\n",
       "       -1.10393250e-03, -8.15050118e-03,  1.58203649e-03, -4.27856017e-03,\n",
       "       -4.40923031e-04,  9.62469354e-03, -1.72868150e-03, -1.82461238e-03,\n",
       "       -9.03189182e-03, -4.38688369e-03], dtype=float32)"
      ]
     },
     "execution_count": 14,
     "metadata": {},
     "output_type": "execute_result"
    }
   ],
   "source": [
    "fed_cov_vec = covariance_map([x_j])\n",
    "fed_cov_vec_np = next(fed_cov_vec[0].as_numpy_iterator())\n",
    "fed_cov_vec_np"
   ]
  },
  {
   "cell_type": "code",
   "execution_count": 15,
   "id": "8a3d3f29",
   "metadata": {},
   "outputs": [
    {
     "data": {
      "text/plain": [
       "array([0., 0., 0., 0., 0., 0., 0., 0., 0., 0., 0., 0., 0., 0., 0., 0., 0.,\n",
       "       0., 0., 0., 0., 0., 0., 0., 0., 0., 0., 0., 0., 0., 0., 0., 0., 0.,\n",
       "       0., 0., 0., 0., 0., 0., 0., 0., 0., 0., 0., 0., 0., 0., 0., 0., 0.,\n",
       "       0., 0., 0., 0., 0., 0., 0., 0., 0., 0., 0., 0., 0., 0., 0., 0., 0.,\n",
       "       0., 0., 0., 0., 0., 0., 0., 0., 0., 0., 0., 0., 0., 0., 0., 0., 0.,\n",
       "       0., 0., 0., 0., 0., 0., 0., 0., 0., 0., 0., 0., 0., 0., 0., 0., 0.,\n",
       "       0., 0., 0., 0., 0., 0., 0., 0., 0., 0., 0., 0., 0., 0., 0., 0., 0.,\n",
       "       0., 0., 0., 0., 0., 0., 0., 0., 0., 0., 0., 0., 0., 0., 0., 0., 0.,\n",
       "       0., 0., 0., 0., 0., 0., 0., 0., 0., 0., 0., 0., 0., 0.],\n",
       "      dtype=float32)"
      ]
     },
     "execution_count": 15,
     "metadata": {},
     "output_type": "execute_result"
    }
   ],
   "source": [
    "# check covariances are the same\n",
    "fed_cov_vec_np - cov_vec_np"
   ]
  },
  {
   "cell_type": "markdown",
   "id": "8d8e234d",
   "metadata": {},
   "source": [
    "### 3. Combine and extract X"
   ]
  },
  {
   "cell_type": "code",
   "execution_count": 16,
   "id": "ebc0661d",
   "metadata": {},
   "outputs": [],
   "source": [
    "n_samples_recreated = np.shape(y)[0]\n",
    "y_means = np.mean(y, axis = 0)\n",
    "y_T_inv = np.linalg.inv(np.transpose(y)) # inverse y"
   ]
  },
  {
   "cell_type": "code",
   "execution_count": 17,
   "id": "dd700069",
   "metadata": {},
   "outputs": [],
   "source": [
    "def reconstruct_x(cov_vec, x_avg, n_samples = n_samples_recreated):\n",
    "    term_1 = n_samples * (y_T_inv @ cov_vec)\n",
    "    term_2 = n_samples * x_avg * (y_T_inv @ y_means)\n",
    "    return(term_1 + term_2)"
   ]
  },
  {
   "cell_type": "markdown",
   "id": "f868d9e6",
   "metadata": {},
   "source": [
    "#### Dataset"
   ]
  },
  {
   "cell_type": "code",
   "execution_count": 18,
   "id": "af87de9d",
   "metadata": {
    "scrolled": true
   },
   "outputs": [
    {
     "data": {
      "text/plain": [
       "array([-4.04690353e-07, -1.33005077e-07, -6.81612637e-08, -1.28894311e-07,\n",
       "        2.51956893e-07,  3.90105574e-07, -1.58739580e-07,  3.08833803e-07,\n",
       "       -1.62144744e-08, -1.12471542e-07, -2.27422114e-07, -1.85757721e-07,\n",
       "       -6.98745645e-08, -2.16315885e-07,  6.22957272e-08, -6.01033062e-07,\n",
       "       -1.59351843e-07, -1.55117937e-07,  6.52265111e-08, -3.77229099e-07,\n",
       "       -5.01229411e-07,  3.49923259e-07, -3.07670225e-07, -3.18018761e-07,\n",
       "       -6.57088625e-08,  2.63337802e-07,  2.23782203e-07, -2.07052363e-08,\n",
       "        3.13867754e-07, -2.15922130e-08,  4.63354699e-07, -1.37070956e-07,\n",
       "        2.21829780e-07,  6.89353685e-08, -1.54716058e-07,  4.40296919e-08,\n",
       "       -7.98527999e-09, -6.32684455e-08, -6.11317493e-08, -1.11249211e-07,\n",
       "        1.86179086e-07, -3.55312906e-07, -3.52414886e-07, -1.54001049e-07,\n",
       "        3.51779067e-07, -2.39574288e-07, -2.10808986e-07, -1.89074061e-08,\n",
       "       -1.41257564e-07, -1.41425075e-07,  7.23467120e-09, -2.67777711e-07,\n",
       "        7.66458291e-08, -2.40941254e-07, -1.29420147e-07, -2.23356062e-07,\n",
       "       -3.44111911e-07, -9.70026222e-08,  2.79326470e-07, -4.48350873e-07,\n",
       "        2.34534062e-07, -8.84940660e-09, -1.09953917e-07, -2.11045329e-07,\n",
       "       -4.61418899e-07,  3.00372071e-07, -7.43961429e-08, -2.74182234e-07,\n",
       "       -2.72704220e-07, -9.83242895e-08, -2.79676632e-08,  1.91976584e-07,\n",
       "       -8.76415843e-08, -3.64284558e-08, -3.75852770e-07,  3.69027274e-07,\n",
       "       -6.58106422e-08,  1.19169119e-09, -1.06753495e-07,  4.95378823e-07,\n",
       "        1.22976226e-07, -2.27033847e-09, -3.11211058e-07, -2.25661144e-07,\n",
       "        2.96877449e-07, -2.04016120e-07, -3.82668037e-07,  2.40692941e-07,\n",
       "       -3.36280954e-08, -1.35660632e-07, -7.23549223e-08, -1.42659771e-07,\n",
       "       -3.43013951e-08,  1.40218517e-07, -1.75925315e-07, -4.31717354e-08,\n",
       "       -1.67705432e-07, -3.63503384e-07, -1.30397220e-07, -2.82457189e-07,\n",
       "        5.07606704e-08, -4.35333104e-07, -8.94896888e-08,  3.31648418e-07,\n",
       "       -6.83208239e-08, -6.79039318e-08, -3.31534110e-07,  3.66293983e-07,\n",
       "       -1.73342718e-08,  1.80576393e-08, -1.33061918e-07, -4.65839371e-07,\n",
       "       -3.94869031e-08,  3.01900861e-07, -3.18297542e-07,  2.72710279e-07,\n",
       "        1.20313073e-07, -1.41809943e-08, -3.23481680e-08, -1.80783888e-07,\n",
       "        4.68423268e-08, -9.01388702e-08, -2.56204209e-07, -2.03964206e-07,\n",
       "       -1.55645077e-07, -1.56043943e-08, -2.64319032e-07, -7.25949310e-08,\n",
       "       -1.44918245e-07,  5.42176750e-08, -1.01780526e-08,  1.14281882e-07,\n",
       "       -2.38214240e-07, -3.47403043e-07,  1.57025761e-07,  7.55893421e-08,\n",
       "        1.62121671e-08,  1.44366180e-07, -5.46185983e-07, -4.71988604e-09,\n",
       "       -1.50834024e-07,  1.83491463e-07,  8.08983395e-08, -3.35751803e-07,\n",
       "       -5.58697363e-07,  1.36891196e-07, -2.95185719e-07, -3.32711260e-07,\n",
       "       -1.63647582e-07, -4.75830750e-07])"
      ]
     },
     "execution_count": 18,
     "metadata": {},
     "output_type": "execute_result"
    }
   ],
   "source": [
    "reconstructed_x_j = reconstruct_x(cov_vec_np, x_avg)\n",
    "reconstructed_x_j - x_j"
   ]
  },
  {
   "cell_type": "markdown",
   "id": "703cb244",
   "metadata": {},
   "source": [
    "#### TFF"
   ]
  },
  {
   "cell_type": "code",
   "execution_count": 19,
   "id": "9039c5f7",
   "metadata": {
    "scrolled": true
   },
   "outputs": [
    {
     "data": {
      "text/plain": [
       "array([-4.04690353e-07, -1.33005077e-07, -6.81612637e-08, -1.28894311e-07,\n",
       "        2.51956893e-07,  3.90105574e-07, -1.58739580e-07,  3.08833803e-07,\n",
       "       -1.62144744e-08, -1.12471542e-07, -2.27422114e-07, -1.85757721e-07,\n",
       "       -6.98745645e-08, -2.16315885e-07,  6.22957272e-08, -6.01033062e-07,\n",
       "       -1.59351843e-07, -1.55117937e-07,  6.52265111e-08, -3.77229099e-07,\n",
       "       -5.01229411e-07,  3.49923259e-07, -3.07670225e-07, -3.18018761e-07,\n",
       "       -6.57088625e-08,  2.63337802e-07,  2.23782203e-07, -2.07052363e-08,\n",
       "        3.13867754e-07, -2.15922130e-08,  4.63354699e-07, -1.37070956e-07,\n",
       "        2.21829780e-07,  6.89353685e-08, -1.54716058e-07,  4.40296919e-08,\n",
       "       -7.98527999e-09, -6.32684455e-08, -6.11317493e-08, -1.11249211e-07,\n",
       "        1.86179086e-07, -3.55312906e-07, -3.52414886e-07, -1.54001049e-07,\n",
       "        3.51779067e-07, -2.39574288e-07, -2.10808986e-07, -1.89074061e-08,\n",
       "       -1.41257564e-07, -1.41425075e-07,  7.23467120e-09, -2.67777711e-07,\n",
       "        7.66458291e-08, -2.40941254e-07, -1.29420147e-07, -2.23356062e-07,\n",
       "       -3.44111911e-07, -9.70026222e-08,  2.79326470e-07, -4.48350873e-07,\n",
       "        2.34534062e-07, -8.84940660e-09, -1.09953917e-07, -2.11045329e-07,\n",
       "       -4.61418899e-07,  3.00372071e-07, -7.43961429e-08, -2.74182234e-07,\n",
       "       -2.72704220e-07, -9.83242895e-08, -2.79676632e-08,  1.91976584e-07,\n",
       "       -8.76415843e-08, -3.64284558e-08, -3.75852770e-07,  3.69027274e-07,\n",
       "       -6.58106422e-08,  1.19169119e-09, -1.06753495e-07,  4.95378823e-07,\n",
       "        1.22976226e-07, -2.27033847e-09, -3.11211058e-07, -2.25661144e-07,\n",
       "        2.96877449e-07, -2.04016120e-07, -3.82668037e-07,  2.40692941e-07,\n",
       "       -3.36280954e-08, -1.35660632e-07, -7.23549223e-08, -1.42659771e-07,\n",
       "       -3.43013951e-08,  1.40218517e-07, -1.75925315e-07, -4.31717354e-08,\n",
       "       -1.67705432e-07, -3.63503384e-07, -1.30397220e-07, -2.82457189e-07,\n",
       "        5.07606704e-08, -4.35333104e-07, -8.94896888e-08,  3.31648418e-07,\n",
       "       -6.83208239e-08, -6.79039318e-08, -3.31534110e-07,  3.66293983e-07,\n",
       "       -1.73342718e-08,  1.80576393e-08, -1.33061918e-07, -4.65839371e-07,\n",
       "       -3.94869031e-08,  3.01900861e-07, -3.18297542e-07,  2.72710279e-07,\n",
       "        1.20313073e-07, -1.41809943e-08, -3.23481680e-08, -1.80783888e-07,\n",
       "        4.68423268e-08, -9.01388702e-08, -2.56204209e-07, -2.03964206e-07,\n",
       "       -1.55645077e-07, -1.56043943e-08, -2.64319032e-07, -7.25949310e-08,\n",
       "       -1.44918245e-07,  5.42176750e-08, -1.01780526e-08,  1.14281882e-07,\n",
       "       -2.38214240e-07, -3.47403043e-07,  1.57025761e-07,  7.55893421e-08,\n",
       "        1.62121671e-08,  1.44366180e-07, -5.46185983e-07, -4.71988604e-09,\n",
       "       -1.50834024e-07,  1.83491463e-07,  8.08983395e-08, -3.35751803e-07,\n",
       "       -5.58697363e-07,  1.36891196e-07, -2.95185719e-07, -3.32711260e-07,\n",
       "       -1.63647582e-07, -4.75830750e-07])"
      ]
     },
     "execution_count": 19,
     "metadata": {},
     "output_type": "execute_result"
    }
   ],
   "source": [
    "reconstructed_x_j = reconstruct_x(fed_cov_vec_np, fed_x_avg)\n",
    "reconstructed_x_j - x_j"
   ]
  },
  {
   "cell_type": "markdown",
   "id": "f3848403",
   "metadata": {},
   "source": [
    "#### Test breakage"
   ]
  },
  {
   "cell_type": "code",
   "execution_count": 20,
   "id": "ea46259f",
   "metadata": {},
   "outputs": [
    {
     "data": {
      "text/plain": [
       "'(float32* -> float32[150]*)'"
      ]
     },
     "execution_count": 20,
     "metadata": {},
     "output_type": "execute_result"
    }
   ],
   "source": [
    "def get_y():\n",
    "    return y\n",
    "\n",
    "# merge to tensor\n",
    "@tff.tf_computation(tff.SequenceType(tf.float32))\n",
    "def local_merge2tensor(vec):\n",
    "#     out = vec.map(lambda x: tf.repeat(x, n_samples, axis = 0))\n",
    "    out = vec.batch(n_samples, drop_remainder=True)\n",
    "#     out = out.map(lambda x: tfp.stats.covariance(x, get_y(), sample_axis=0, event_axis=None))\n",
    "    return out\n",
    "str(local_merge2tensor.type_signature)"
   ]
  },
  {
   "cell_type": "code",
   "execution_count": 21,
   "id": "f7ee2673",
   "metadata": {},
   "outputs": [],
   "source": [
    "# merge to tensor\n",
    "@tff.federated_computation(tff.type_at_clients(tff.SequenceType(tf.float32)))\n",
    "def global_merge(vals):\n",
    "    return tff.federated_map(local_merge2tensor, vals)"
   ]
  },
  {
   "cell_type": "code",
   "execution_count": 22,
   "id": "3495206c",
   "metadata": {},
   "outputs": [
    {
     "data": {
      "text/plain": [
       "array([0.5745409 , 0.66319996, 0.5159908 , 0.23711313, 0.78899425,\n",
       "       0.49931702, 0.2555557 , 0.46419847, 0.01365231, 0.9790286 ,\n",
       "       0.03407234, 0.11002341, 0.549638  , 0.74536407, 0.01489864,\n",
       "       0.26108602, 0.41571823, 0.15941693, 0.39767984, 0.817516  ,\n",
       "       0.4835058 , 0.14407529, 0.5692794 , 0.5268348 , 0.52152336,\n",
       "       0.319054  , 0.0396032 , 0.35738993, 0.71448916, 0.7128584 ,\n",
       "       0.29400608, 0.26830477, 0.8534324 , 0.7212698 , 0.44379622,\n",
       "       0.74784213, 0.8377984 , 0.47412047, 0.7792083 , 0.01029759,\n",
       "       0.1399361 , 0.2610262 , 0.42820555, 0.44912806, 0.20981039,\n",
       "       0.17931947, 0.28420016, 0.15882327, 0.23933445, 0.49106392,\n",
       "       0.8219152 , 0.8265646 , 0.589897  , 0.8466324 , 0.00973011,\n",
       "       0.08570742, 0.93142587, 0.5551172 , 0.08517147, 0.7998447 ,\n",
       "       0.37038222, 0.307473  , 0.9474603 , 0.23590392, 0.20809764,\n",
       "       0.10118823, 0.43282503, 0.7063    , 0.93756235, 0.62510633,\n",
       "       0.49257335, 0.39122316, 0.80741656, 0.08891166, 0.42354774,\n",
       "       0.6786581 , 0.142444  , 0.16681208, 0.1741277 , 0.18011591,\n",
       "       0.83181584, 0.1569933 , 0.3615811 , 0.8434303 , 0.674005  ,\n",
       "       0.9507257 , 0.50816596, 0.25071517, 0.04893407, 0.02935055,\n",
       "       0.5665284 , 0.28878912, 0.3248265 , 0.22309533, 0.74790233,\n",
       "       0.095126  , 0.4973769 , 0.5720385 , 0.69448906, 0.7656669 ,\n",
       "       0.31489164, 0.18048559, 0.23634095, 0.7012127 , 0.2628594 ,\n",
       "       0.01170918, 0.5962016 , 0.52151227, 0.3349261 , 0.75701237,\n",
       "       0.22517969, 0.7623804 , 0.5402413 , 0.6536119 , 0.46995857,\n",
       "       0.43353114, 0.4590408 , 0.37686762, 0.11567058, 0.09814008,\n",
       "       0.19849813, 0.13272287, 0.3563689 , 0.2153346 , 0.1239733 ,\n",
       "       0.79734826, 0.43850046, 0.09989928, 0.82253987, 0.28679788,\n",
       "       0.6045939 , 0.40594858, 0.18499175, 0.22395971, 0.9496204 ,\n",
       "       0.44348285, 0.7599031 , 0.24469209, 0.6296177 , 0.89565265,\n",
       "       0.13778645, 0.66021854, 0.39617005, 0.6235256 , 0.53590775,\n",
       "       0.58336633, 0.15506081, 0.4446365 , 0.77188975, 0.17519735],\n",
       "      dtype=float32)"
      ]
     },
     "execution_count": 22,
     "metadata": {},
     "output_type": "execute_result"
    }
   ],
   "source": [
    "fed_cov_vec = global_merge([x_j])\n",
    "next(fed_cov_vec[0].as_numpy_iterator())"
   ]
  },
  {
   "cell_type": "code",
   "execution_count": 23,
   "id": "05d0d123",
   "metadata": {},
   "outputs": [
    {
     "data": {
      "text/plain": [
       "[0.5745408899144413,\n",
       " 0.6631999671243912,\n",
       " 0.5159908168589863,\n",
       " 0.23711313617972984,\n",
       " 0.7889942405159143,\n",
       " 0.49931701764598513,\n",
       " 0.2555556866511003,\n",
       " 0.46419848326185775,\n",
       " 0.013652306585427598,\n",
       " 0.9790285580713632,\n",
       " 0.03407233869463566,\n",
       " 0.11002341248819847,\n",
       " 0.5496379742094668,\n",
       " 0.7453640451293252,\n",
       " 0.01489863860277052,\n",
       " 0.26108600815362515,\n",
       " 0.41571823236659666,\n",
       " 0.15941693206273622,\n",
       " 0.3976798250232644,\n",
       " 0.8175160571747737,\n",
       " 0.4835057772577368,\n",
       " 0.1440752847619211,\n",
       " 0.5692793785143307,\n",
       " 0.5268348106839115,\n",
       " 0.5215233278525534,\n",
       " 0.31905401934663025,\n",
       " 0.0396032037580033,\n",
       " 0.3573899351895661,\n",
       " 0.714489141996391,\n",
       " 0.7128584013926123,\n",
       " 0.29400607530487266,\n",
       " 0.26830477476830417,\n",
       " 0.8534324193614823,\n",
       " 0.7212698159844527,\n",
       " 0.4437962091274841,\n",
       " 0.7478421369300969,\n",
       " 0.8377984009448465,\n",
       " 0.4741204603074416,\n",
       " 0.7792082843786391,\n",
       " 0.010297590029973214,\n",
       " 0.1399361003492411,\n",
       " 0.2610261965171333,\n",
       " 0.428205541063146,\n",
       " 0.44912806130787974,\n",
       " 0.20981038551443099,\n",
       " 0.17931947528880388,\n",
       " 0.28420014939307414,\n",
       " 0.15882327403773933,\n",
       " 0.23933444336118892,\n",
       " 0.49106392823241773,\n",
       " 0.8219152326243799,\n",
       " 0.8265646006667968,\n",
       " 0.5898969650360629,\n",
       " 0.8466324081976441,\n",
       " 0.00973011438840965,\n",
       " 0.08570741562615836,\n",
       " 0.9314258856768393,\n",
       " 0.5551171720893443,\n",
       " 0.08517147162467842,\n",
       " 0.7998447019509218,\n",
       " 0.3703822301884665,\n",
       " 0.3074730163535966,\n",
       " 0.9474603102779958,\n",
       " 0.23590391889682927,\n",
       " 0.2080976356083254,\n",
       " 0.10118822400193606,\n",
       " 0.4328250288215256,\n",
       " 0.706300047275247,\n",
       " 0.9375623338380992,\n",
       " 0.6251063184679314,\n",
       " 0.4925733495235519,\n",
       " 0.39122315958177023,\n",
       " 0.8074165647525228,\n",
       " 0.0889116636931021,\n",
       " 0.42354775120856913,\n",
       " 0.6786581560085643,\n",
       " 0.1424440055199272,\n",
       " 0.16681208415447324,\n",
       " 0.1741277043440178,\n",
       " 0.18011591231433743,\n",
       " 0.8318158570789701,\n",
       " 0.15699329369653348,\n",
       " 0.3615810924197669,\n",
       " 0.8434302884847342,\n",
       " 0.6740049986135149,\n",
       " 0.9507256849930528,\n",
       " 0.5081659371983123,\n",
       " 0.25071517938656407,\n",
       " 0.04893406785742849,\n",
       " 0.029350549713948126,\n",
       " 0.5665283825433536,\n",
       " 0.2887891130051782,\n",
       " 0.3248265172811482,\n",
       " 0.2230953322625141,\n",
       " 0.7479023383720733,\n",
       " 0.09512599764792218,\n",
       " 0.4973768923317583,\n",
       " 0.5720384442790918,\n",
       " 0.6944890831778492,\n",
       " 0.7656669014588207,\n",
       " 0.3148916463621366,\n",
       " 0.18048559272231124,\n",
       " 0.2363409617523604,\n",
       " 0.7012127197315868,\n",
       " 0.2628593976465067,\n",
       " 0.011709176602195503,\n",
       " 0.596201616812845,\n",
       " 0.5215122551661658,\n",
       " 0.3349261032932008,\n",
       " 0.7570123684165221,\n",
       " 0.2251796836430907,\n",
       " 0.762380413669622,\n",
       " 0.5402412913331349,\n",
       " 0.6536118878598489,\n",
       " 0.46995857598297086,\n",
       " 0.43353112295042606,\n",
       " 0.45904080556761695,\n",
       " 0.37686763014343316,\n",
       " 0.11567058546879361,\n",
       " 0.09814008267339214,\n",
       " 0.19849813490632084,\n",
       " 0.13272286270820888,\n",
       " 0.35636890862050796,\n",
       " 0.21533460062633913,\n",
       " 0.12397329823081293,\n",
       " 0.7973482751068548,\n",
       " 0.438500468678082,\n",
       " 0.09989928609460652,\n",
       " 0.822539843503477,\n",
       " 0.2867978873631203,\n",
       " 0.6045938711505243,\n",
       " 0.40594858685561375,\n",
       " 0.18499175449820893,\n",
       " 0.22395971974498596,\n",
       " 0.9496204026382075,\n",
       " 0.4434828340780349,\n",
       " 0.7599030523773951,\n",
       " 0.24469209199906883,\n",
       " 0.6296176864492626,\n",
       " 0.8956526467199977,\n",
       " 0.13778644627111603,\n",
       " 0.6602185119026276,\n",
       " 0.39617005482897594,\n",
       " 0.6235255916757155,\n",
       " 0.5359077723693348,\n",
       " 0.5833663389536772,\n",
       " 0.1550608169970248,\n",
       " 0.4446364991009737,\n",
       " 0.7718897272242767,\n",
       " 0.1751973524993743]"
      ]
     },
     "execution_count": 23,
     "metadata": {},
     "output_type": "execute_result"
    }
   ],
   "source": [
    "x_j"
   ]
  }
 ],
 "metadata": {
  "kernelspec": {
   "display_name": "Python 3 (ipykernel)",
   "language": "python",
   "name": "python3"
  },
  "language_info": {
   "codemirror_mode": {
    "name": "ipython",
    "version": 3
   },
   "file_extension": ".py",
   "mimetype": "text/x-python",
   "name": "python",
   "nbconvert_exporter": "python",
   "pygments_lexer": "ipython3",
   "version": "3.9.13"
  }
 },
 "nbformat": 4,
 "nbformat_minor": 5
}
